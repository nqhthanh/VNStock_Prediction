{
  "cells": [
    {
      "cell_type": "markdown",
      "metadata": {},
      "source": [
        "# Read Data"
      ]
    },
    {
      "cell_type": "code",
      "execution_count": 2,
      "metadata": {
        "id": "DxtzOijvc8s8"
      },
      "outputs": [],
      "source": [
        "from vnstock import *"
      ]
    },
    {
      "cell_type": "code",
      "execution_count": 3,
      "metadata": {
        "id": "sgY7wO0chJ0o"
      },
      "outputs": [
        {
          "name": "stdout",
          "output_type": "stream",
          "text": [
            "WARNING:tensorflow:From c:\\Users\\ADMIN\\anaconda3\\lib\\site-packages\\keras\\src\\losses.py:2976: The name tf.losses.sparse_softmax_cross_entropy is deprecated. Please use tf.compat.v1.losses.sparse_softmax_cross_entropy instead.\n",
            "\n"
          ]
        }
      ],
      "source": [
        "import pandas as pd\n",
        "import numpy as np\n",
        "import matplotlib.pyplot as plt\n",
        "import seaborn as sns\n",
        "from sklearn.preprocessing import StandardScaler\n",
        "from tensorflow.keras.layers import Dense, Dropout, Embedding, Bidirectional, LSTM\n",
        "from tensorflow.keras.optimizers import Adam\n",
        "from tensorflow.keras.models import Sequential\n",
        "import tensorflow as tf"
      ]
    },
    {
      "cell_type": "code",
      "execution_count": 4,
      "metadata": {
        "colab": {
          "base_uri": "https://localhost:8080/",
          "height": 1000
        },
        "id": "_YBSt82qdFB8",
        "outputId": "f77e407a-74d4-424b-9bff-835cd2646393"
      },
      "outputs": [
        {
          "data": {
            "text/html": [
              "<div>\n",
              "<style scoped>\n",
              "    .dataframe tbody tr th:only-of-type {\n",
              "        vertical-align: middle;\n",
              "    }\n",
              "\n",
              "    .dataframe tbody tr th {\n",
              "        vertical-align: top;\n",
              "    }\n",
              "\n",
              "    .dataframe thead th {\n",
              "        text-align: right;\n",
              "    }\n",
              "</style>\n",
              "<table border=\"1\" class=\"dataframe\">\n",
              "  <thead>\n",
              "    <tr style=\"text-align: right;\">\n",
              "      <th></th>\n",
              "      <th>ticker</th>\n",
              "      <th>comGroupCode</th>\n",
              "      <th>organName</th>\n",
              "      <th>organShortName</th>\n",
              "      <th>organTypeCode</th>\n",
              "      <th>comTypeCode</th>\n",
              "      <th>icbName</th>\n",
              "      <th>icbNamePath</th>\n",
              "      <th>sector</th>\n",
              "      <th>industry</th>\n",
              "      <th>...</th>\n",
              "      <th>VNCOND</th>\n",
              "      <th>VNCONS</th>\n",
              "      <th>VNENE</th>\n",
              "      <th>VNFIN</th>\n",
              "      <th>VNHEAL</th>\n",
              "      <th>VNIND</th>\n",
              "      <th>VNIT</th>\n",
              "      <th>VNMAT</th>\n",
              "      <th>VNREAL</th>\n",
              "      <th>VNUTI</th>\n",
              "    </tr>\n",
              "  </thead>\n",
              "  <tbody>\n",
              "    <tr>\n",
              "      <th>0</th>\n",
              "      <td>SSI</td>\n",
              "      <td>HOSE</td>\n",
              "      <td>Công ty Cổ phần Chứng khoán SSI</td>\n",
              "      <td>Chứng khoán SSI</td>\n",
              "      <td>DN</td>\n",
              "      <td>CK</td>\n",
              "      <td>Môi giới chứng khoán</td>\n",
              "      <td>Tài chính/Dịch vụ tài chính/Dịch vụ tài chính/...</td>\n",
              "      <td>Tài chính</td>\n",
              "      <td>Dịch vụ tài chính</td>\n",
              "      <td>...</td>\n",
              "      <td>False</td>\n",
              "      <td>False</td>\n",
              "      <td>False</td>\n",
              "      <td>True</td>\n",
              "      <td>False</td>\n",
              "      <td>False</td>\n",
              "      <td>False</td>\n",
              "      <td>False</td>\n",
              "      <td>False</td>\n",
              "      <td>False</td>\n",
              "    </tr>\n",
              "    <tr>\n",
              "      <th>1</th>\n",
              "      <td>BCM</td>\n",
              "      <td>HOSE</td>\n",
              "      <td>Tổng Công ty Đầu tư và Phát triển Công nghiệp ...</td>\n",
              "      <td>Becamex IDC</td>\n",
              "      <td>DN</td>\n",
              "      <td>CT</td>\n",
              "      <td>Bất động sản</td>\n",
              "      <td>Tài chính/Bất động sản/Bất động sản/Bất động sản</td>\n",
              "      <td>Tài chính</td>\n",
              "      <td>Bất động sản</td>\n",
              "      <td>...</td>\n",
              "      <td>False</td>\n",
              "      <td>False</td>\n",
              "      <td>False</td>\n",
              "      <td>False</td>\n",
              "      <td>False</td>\n",
              "      <td>False</td>\n",
              "      <td>False</td>\n",
              "      <td>False</td>\n",
              "      <td>True</td>\n",
              "      <td>False</td>\n",
              "    </tr>\n",
              "    <tr>\n",
              "      <th>2</th>\n",
              "      <td>VHM</td>\n",
              "      <td>HOSE</td>\n",
              "      <td>Công ty Cổ phần Vinhomes</td>\n",
              "      <td>Vinhomes</td>\n",
              "      <td>DN</td>\n",
              "      <td>CT</td>\n",
              "      <td>Bất động sản</td>\n",
              "      <td>Tài chính/Bất động sản/Bất động sản/Bất động sản</td>\n",
              "      <td>Tài chính</td>\n",
              "      <td>Bất động sản</td>\n",
              "      <td>...</td>\n",
              "      <td>False</td>\n",
              "      <td>False</td>\n",
              "      <td>False</td>\n",
              "      <td>False</td>\n",
              "      <td>False</td>\n",
              "      <td>False</td>\n",
              "      <td>False</td>\n",
              "      <td>False</td>\n",
              "      <td>True</td>\n",
              "      <td>False</td>\n",
              "    </tr>\n",
              "    <tr>\n",
              "      <th>3</th>\n",
              "      <td>VIC</td>\n",
              "      <td>HOSE</td>\n",
              "      <td>Tập đoàn Vingroup - Công ty CP</td>\n",
              "      <td>VinGroup</td>\n",
              "      <td>DN</td>\n",
              "      <td>CT</td>\n",
              "      <td>Bất động sản</td>\n",
              "      <td>Tài chính/Bất động sản/Bất động sản/Bất động sản</td>\n",
              "      <td>Tài chính</td>\n",
              "      <td>Bất động sản</td>\n",
              "      <td>...</td>\n",
              "      <td>False</td>\n",
              "      <td>False</td>\n",
              "      <td>False</td>\n",
              "      <td>False</td>\n",
              "      <td>False</td>\n",
              "      <td>False</td>\n",
              "      <td>False</td>\n",
              "      <td>False</td>\n",
              "      <td>True</td>\n",
              "      <td>False</td>\n",
              "    </tr>\n",
              "    <tr>\n",
              "      <th>4</th>\n",
              "      <td>VRE</td>\n",
              "      <td>HOSE</td>\n",
              "      <td>Công ty Cổ phần Vincom Retail</td>\n",
              "      <td>Vincom Retail</td>\n",
              "      <td>DN</td>\n",
              "      <td>CT</td>\n",
              "      <td>Bất động sản</td>\n",
              "      <td>Tài chính/Bất động sản/Bất động sản/Bất động sản</td>\n",
              "      <td>Tài chính</td>\n",
              "      <td>Bất động sản</td>\n",
              "      <td>...</td>\n",
              "      <td>False</td>\n",
              "      <td>False</td>\n",
              "      <td>False</td>\n",
              "      <td>False</td>\n",
              "      <td>False</td>\n",
              "      <td>False</td>\n",
              "      <td>False</td>\n",
              "      <td>False</td>\n",
              "      <td>True</td>\n",
              "      <td>False</td>\n",
              "    </tr>\n",
              "    <tr>\n",
              "      <th>...</th>\n",
              "      <td>...</td>\n",
              "      <td>...</td>\n",
              "      <td>...</td>\n",
              "      <td>...</td>\n",
              "      <td>...</td>\n",
              "      <td>...</td>\n",
              "      <td>...</td>\n",
              "      <td>...</td>\n",
              "      <td>...</td>\n",
              "      <td>...</td>\n",
              "      <td>...</td>\n",
              "      <td>...</td>\n",
              "      <td>...</td>\n",
              "      <td>...</td>\n",
              "      <td>...</td>\n",
              "      <td>...</td>\n",
              "      <td>...</td>\n",
              "      <td>...</td>\n",
              "      <td>...</td>\n",
              "      <td>...</td>\n",
              "      <td>...</td>\n",
              "    </tr>\n",
              "    <tr>\n",
              "      <th>1602</th>\n",
              "      <td>SDK</td>\n",
              "      <td>UPCOM</td>\n",
              "      <td>Công ty Cổ phần Cơ khí Luyện Kim</td>\n",
              "      <td>Cơ khí Luyện Kim</td>\n",
              "      <td>DN</td>\n",
              "      <td>CT</td>\n",
              "      <td>Máy công nghiệp</td>\n",
              "      <td>Công nghiệp/Hàng &amp; Dịch vụ Công nghiệp/Công ng...</td>\n",
              "      <td>Công nghiệp</td>\n",
              "      <td>Hàng &amp; Dịch vụ Công nghiệp</td>\n",
              "      <td>...</td>\n",
              "      <td>False</td>\n",
              "      <td>False</td>\n",
              "      <td>False</td>\n",
              "      <td>False</td>\n",
              "      <td>False</td>\n",
              "      <td>False</td>\n",
              "      <td>False</td>\n",
              "      <td>False</td>\n",
              "      <td>False</td>\n",
              "      <td>False</td>\n",
              "    </tr>\n",
              "    <tr>\n",
              "      <th>1603</th>\n",
              "      <td>SRF</td>\n",
              "      <td>HOSE</td>\n",
              "      <td>Công ty Cổ phần Searefico</td>\n",
              "      <td>SEAREFICO</td>\n",
              "      <td>DN</td>\n",
              "      <td>CT</td>\n",
              "      <td>Máy công nghiệp</td>\n",
              "      <td>Công nghiệp/Hàng &amp; Dịch vụ Công nghiệp/Công ng...</td>\n",
              "      <td>Công nghiệp</td>\n",
              "      <td>Hàng &amp; Dịch vụ Công nghiệp</td>\n",
              "      <td>...</td>\n",
              "      <td>False</td>\n",
              "      <td>False</td>\n",
              "      <td>False</td>\n",
              "      <td>False</td>\n",
              "      <td>False</td>\n",
              "      <td>False</td>\n",
              "      <td>False</td>\n",
              "      <td>False</td>\n",
              "      <td>False</td>\n",
              "      <td>False</td>\n",
              "    </tr>\n",
              "    <tr>\n",
              "      <th>1604</th>\n",
              "      <td>UEM</td>\n",
              "      <td>UPCOM</td>\n",
              "      <td>Công ty Cổ phần Cơ điện Uông Bí - Vinacomin</td>\n",
              "      <td>Cơ điện Uông Bí - Vinacomin</td>\n",
              "      <td>DN</td>\n",
              "      <td>CT</td>\n",
              "      <td>Máy công nghiệp</td>\n",
              "      <td>Công nghiệp/Hàng &amp; Dịch vụ Công nghiệp/Công ng...</td>\n",
              "      <td>Công nghiệp</td>\n",
              "      <td>Hàng &amp; Dịch vụ Công nghiệp</td>\n",
              "      <td>...</td>\n",
              "      <td>False</td>\n",
              "      <td>False</td>\n",
              "      <td>False</td>\n",
              "      <td>False</td>\n",
              "      <td>False</td>\n",
              "      <td>False</td>\n",
              "      <td>False</td>\n",
              "      <td>False</td>\n",
              "      <td>False</td>\n",
              "      <td>False</td>\n",
              "    </tr>\n",
              "    <tr>\n",
              "      <th>1605</th>\n",
              "      <td>VEA</td>\n",
              "      <td>UPCOM</td>\n",
              "      <td>Tổng Công ty Máy động lực và Máy nông nghiệp V...</td>\n",
              "      <td>Máy động lực và Máy NN</td>\n",
              "      <td>DN</td>\n",
              "      <td>CT</td>\n",
              "      <td>Máy công nghiệp</td>\n",
              "      <td>Công nghiệp/Hàng &amp; Dịch vụ Công nghiệp/Công ng...</td>\n",
              "      <td>Công nghiệp</td>\n",
              "      <td>Hàng &amp; Dịch vụ Công nghiệp</td>\n",
              "      <td>...</td>\n",
              "      <td>False</td>\n",
              "      <td>False</td>\n",
              "      <td>False</td>\n",
              "      <td>False</td>\n",
              "      <td>False</td>\n",
              "      <td>False</td>\n",
              "      <td>False</td>\n",
              "      <td>False</td>\n",
              "      <td>False</td>\n",
              "      <td>False</td>\n",
              "    </tr>\n",
              "    <tr>\n",
              "      <th>1606</th>\n",
              "      <td>VES</td>\n",
              "      <td>UPCOM</td>\n",
              "      <td>Công ty Cổ phần Đầu tư và Xây dựng Điện MÊ CA ...</td>\n",
              "      <td>MÊ CA VNECO</td>\n",
              "      <td>DN</td>\n",
              "      <td>CT</td>\n",
              "      <td>Máy công nghiệp</td>\n",
              "      <td>Công nghiệp/Hàng &amp; Dịch vụ Công nghiệp/Công ng...</td>\n",
              "      <td>Công nghiệp</td>\n",
              "      <td>Hàng &amp; Dịch vụ Công nghiệp</td>\n",
              "      <td>...</td>\n",
              "      <td>False</td>\n",
              "      <td>False</td>\n",
              "      <td>False</td>\n",
              "      <td>False</td>\n",
              "      <td>False</td>\n",
              "      <td>False</td>\n",
              "      <td>False</td>\n",
              "      <td>False</td>\n",
              "      <td>False</td>\n",
              "      <td>False</td>\n",
              "    </tr>\n",
              "  </tbody>\n",
              "</table>\n",
              "<p>1607 rows × 35 columns</p>\n",
              "</div>"
            ],
            "text/plain": [
              "     ticker comGroupCode                                          organName  \\\n",
              "0       SSI         HOSE                    Công ty Cổ phần Chứng khoán SSI   \n",
              "1       BCM         HOSE  Tổng Công ty Đầu tư và Phát triển Công nghiệp ...   \n",
              "2       VHM         HOSE                           Công ty Cổ phần Vinhomes   \n",
              "3       VIC         HOSE                     Tập đoàn Vingroup - Công ty CP   \n",
              "4       VRE         HOSE                      Công ty Cổ phần Vincom Retail   \n",
              "...     ...          ...                                                ...   \n",
              "1602    SDK        UPCOM                   Công ty Cổ phần Cơ khí Luyện Kim   \n",
              "1603    SRF         HOSE                          Công ty Cổ phần Searefico   \n",
              "1604    UEM        UPCOM        Công ty Cổ phần Cơ điện Uông Bí - Vinacomin   \n",
              "1605    VEA        UPCOM  Tổng Công ty Máy động lực và Máy nông nghiệp V...   \n",
              "1606    VES        UPCOM  Công ty Cổ phần Đầu tư và Xây dựng Điện MÊ CA ...   \n",
              "\n",
              "                   organShortName organTypeCode comTypeCode  \\\n",
              "0                 Chứng khoán SSI            DN          CK   \n",
              "1                     Becamex IDC            DN          CT   \n",
              "2                        Vinhomes            DN          CT   \n",
              "3                        VinGroup            DN          CT   \n",
              "4                   Vincom Retail            DN          CT   \n",
              "...                           ...           ...         ...   \n",
              "1602             Cơ khí Luyện Kim            DN          CT   \n",
              "1603                    SEAREFICO            DN          CT   \n",
              "1604  Cơ điện Uông Bí - Vinacomin            DN          CT   \n",
              "1605       Máy động lực và Máy NN            DN          CT   \n",
              "1606                  MÊ CA VNECO            DN          CT   \n",
              "\n",
              "                   icbName                                        icbNamePath  \\\n",
              "0     Môi giới chứng khoán  Tài chính/Dịch vụ tài chính/Dịch vụ tài chính/...   \n",
              "1             Bất động sản   Tài chính/Bất động sản/Bất động sản/Bất động sản   \n",
              "2             Bất động sản   Tài chính/Bất động sản/Bất động sản/Bất động sản   \n",
              "3             Bất động sản   Tài chính/Bất động sản/Bất động sản/Bất động sản   \n",
              "4             Bất động sản   Tài chính/Bất động sản/Bất động sản/Bất động sản   \n",
              "...                    ...                                                ...   \n",
              "1602       Máy công nghiệp  Công nghiệp/Hàng & Dịch vụ Công nghiệp/Công ng...   \n",
              "1603       Máy công nghiệp  Công nghiệp/Hàng & Dịch vụ Công nghiệp/Công ng...   \n",
              "1604       Máy công nghiệp  Công nghiệp/Hàng & Dịch vụ Công nghiệp/Công ng...   \n",
              "1605       Máy công nghiệp  Công nghiệp/Hàng & Dịch vụ Công nghiệp/Công ng...   \n",
              "1606       Máy công nghiệp  Công nghiệp/Hàng & Dịch vụ Công nghiệp/Công ng...   \n",
              "\n",
              "           sector                    industry  ... VNCOND VNCONS  VNENE  \\\n",
              "0       Tài chính           Dịch vụ tài chính  ...  False  False  False   \n",
              "1       Tài chính                Bất động sản  ...  False  False  False   \n",
              "2       Tài chính                Bất động sản  ...  False  False  False   \n",
              "3       Tài chính                Bất động sản  ...  False  False  False   \n",
              "4       Tài chính                Bất động sản  ...  False  False  False   \n",
              "...           ...                         ...  ...    ...    ...    ...   \n",
              "1602  Công nghiệp  Hàng & Dịch vụ Công nghiệp  ...  False  False  False   \n",
              "1603  Công nghiệp  Hàng & Dịch vụ Công nghiệp  ...  False  False  False   \n",
              "1604  Công nghiệp  Hàng & Dịch vụ Công nghiệp  ...  False  False  False   \n",
              "1605  Công nghiệp  Hàng & Dịch vụ Công nghiệp  ...  False  False  False   \n",
              "1606  Công nghiệp  Hàng & Dịch vụ Công nghiệp  ...  False  False  False   \n",
              "\n",
              "      VNFIN  VNHEAL  VNIND   VNIT  VNMAT  VNREAL  VNUTI  \n",
              "0      True   False  False  False  False   False  False  \n",
              "1     False   False  False  False  False    True  False  \n",
              "2     False   False  False  False  False    True  False  \n",
              "3     False   False  False  False  False    True  False  \n",
              "4     False   False  False  False  False    True  False  \n",
              "...     ...     ...    ...    ...    ...     ...    ...  \n",
              "1602  False   False  False  False  False   False  False  \n",
              "1603  False   False  False  False  False   False  False  \n",
              "1604  False   False  False  False  False   False  False  \n",
              "1605  False   False  False  False  False   False  False  \n",
              "1606  False   False  False  False  False   False  False  \n",
              "\n",
              "[1607 rows x 35 columns]"
            ]
          },
          "execution_count": 4,
          "metadata": {},
          "output_type": "execute_result"
        }
      ],
      "source": [
        "listing_companies()"
      ]
    },
    {
      "cell_type": "code",
      "execution_count": 5,
      "metadata": {
        "colab": {
          "base_uri": "https://localhost:8080/",
          "height": 118
        },
        "id": "p1bK1vH2dQIe",
        "outputId": "7ed1c619-bbb3-48cb-c70d-cb378191ca25"
      },
      "outputs": [
        {
          "data": {
            "text/html": [
              "<div>\n",
              "<style scoped>\n",
              "    .dataframe tbody tr th:only-of-type {\n",
              "        vertical-align: middle;\n",
              "    }\n",
              "\n",
              "    .dataframe tbody tr th {\n",
              "        vertical-align: top;\n",
              "    }\n",
              "\n",
              "    .dataframe thead th {\n",
              "        text-align: right;\n",
              "    }\n",
              "</style>\n",
              "<table border=\"1\" class=\"dataframe\">\n",
              "  <thead>\n",
              "    <tr style=\"text-align: right;\">\n",
              "      <th></th>\n",
              "      <th>ticker</th>\n",
              "      <th>exchange</th>\n",
              "      <th>industry</th>\n",
              "      <th>companyType</th>\n",
              "      <th>noShareholders</th>\n",
              "      <th>foreignPercent</th>\n",
              "      <th>outstandingShare</th>\n",
              "      <th>issueShare</th>\n",
              "      <th>establishedYear</th>\n",
              "      <th>noEmployees</th>\n",
              "      <th>stockRating</th>\n",
              "      <th>deltaInWeek</th>\n",
              "      <th>deltaInMonth</th>\n",
              "      <th>deltaInYear</th>\n",
              "      <th>shortName</th>\n",
              "      <th>industryEn</th>\n",
              "      <th>industryID</th>\n",
              "      <th>industryIDv2</th>\n",
              "      <th>website</th>\n",
              "    </tr>\n",
              "  </thead>\n",
              "  <tbody>\n",
              "    <tr>\n",
              "      <th>0</th>\n",
              "      <td>YEG</td>\n",
              "      <td>HOSE</td>\n",
              "      <td>Truyền thông</td>\n",
              "      <td>CT</td>\n",
              "      <td>310</td>\n",
              "      <td>0.023</td>\n",
              "      <td>131.4</td>\n",
              "      <td>131.4</td>\n",
              "      <td>2006</td>\n",
              "      <td>58</td>\n",
              "      <td>2.0</td>\n",
              "      <td>-0.042</td>\n",
              "      <td>-0.077</td>\n",
              "      <td>0.566</td>\n",
              "      <td>Tập đoàn Yeah1</td>\n",
              "      <td>Media</td>\n",
              "      <td>254</td>\n",
              "      <td>5553</td>\n",
              "      <td>https://yeah1group.com</td>\n",
              "    </tr>\n",
              "  </tbody>\n",
              "</table>\n",
              "</div>"
            ],
            "text/plain": [
              "  ticker exchange      industry companyType  noShareholders  foreignPercent  \\\n",
              "0    YEG     HOSE  Truyền thông          CT             310           0.023   \n",
              "\n",
              "   outstandingShare  issueShare establishedYear  noEmployees  stockRating  \\\n",
              "0             131.4       131.4            2006           58          2.0   \n",
              "\n",
              "   deltaInWeek  deltaInMonth  deltaInYear       shortName industryEn  \\\n",
              "0       -0.042        -0.077        0.566  Tập đoàn Yeah1      Media   \n",
              "\n",
              "   industryID industryIDv2                 website  \n",
              "0         254         5553  https://yeah1group.com  "
            ]
          },
          "execution_count": 5,
          "metadata": {},
          "output_type": "execute_result"
        }
      ],
      "source": [
        "company_overview('YEG')"
      ]
    },
    {
      "cell_type": "code",
      "execution_count": 7,
      "metadata": {
        "colab": {
          "base_uri": "https://localhost:8080/",
          "height": 423
        },
        "id": "PxdwibGIejkS",
        "outputId": "ad0840d4-24d3-4a12-c44e-c194114bdf70"
      },
      "outputs": [
        {
          "data": {
            "text/html": [
              "<div>\n",
              "<style scoped>\n",
              "    .dataframe tbody tr th:only-of-type {\n",
              "        vertical-align: middle;\n",
              "    }\n",
              "\n",
              "    .dataframe tbody tr th {\n",
              "        vertical-align: top;\n",
              "    }\n",
              "\n",
              "    .dataframe thead th {\n",
              "        text-align: right;\n",
              "    }\n",
              "</style>\n",
              "<table border=\"1\" class=\"dataframe\">\n",
              "  <thead>\n",
              "    <tr style=\"text-align: right;\">\n",
              "      <th></th>\n",
              "      <th>time</th>\n",
              "      <th>open</th>\n",
              "      <th>high</th>\n",
              "      <th>low</th>\n",
              "      <th>close</th>\n",
              "      <th>volume</th>\n",
              "      <th>ticker</th>\n",
              "    </tr>\n",
              "  </thead>\n",
              "  <tbody>\n",
              "    <tr>\n",
              "      <th>0</th>\n",
              "      <td>2012-03-20</td>\n",
              "      <td>15260</td>\n",
              "      <td>15340</td>\n",
              "      <td>15170</td>\n",
              "      <td>15260</td>\n",
              "      <td>48840</td>\n",
              "      <td>VNM</td>\n",
              "    </tr>\n",
              "    <tr>\n",
              "      <th>1</th>\n",
              "      <td>2012-03-21</td>\n",
              "      <td>15340</td>\n",
              "      <td>15340</td>\n",
              "      <td>15260</td>\n",
              "      <td>15260</td>\n",
              "      <td>74890</td>\n",
              "      <td>VNM</td>\n",
              "    </tr>\n",
              "    <tr>\n",
              "      <th>2</th>\n",
              "      <td>2012-03-22</td>\n",
              "      <td>15260</td>\n",
              "      <td>15340</td>\n",
              "      <td>15260</td>\n",
              "      <td>15260</td>\n",
              "      <td>65490</td>\n",
              "      <td>VNM</td>\n",
              "    </tr>\n",
              "    <tr>\n",
              "      <th>3</th>\n",
              "      <td>2012-03-23</td>\n",
              "      <td>15260</td>\n",
              "      <td>16010</td>\n",
              "      <td>15260</td>\n",
              "      <td>16010</td>\n",
              "      <td>268540</td>\n",
              "      <td>VNM</td>\n",
              "    </tr>\n",
              "    <tr>\n",
              "      <th>4</th>\n",
              "      <td>2012-03-26</td>\n",
              "      <td>16010</td>\n",
              "      <td>16180</td>\n",
              "      <td>15670</td>\n",
              "      <td>15760</td>\n",
              "      <td>112890</td>\n",
              "      <td>VNM</td>\n",
              "    </tr>\n",
              "  </tbody>\n",
              "</table>\n",
              "</div>"
            ],
            "text/plain": [
              "         time   open   high    low  close  volume ticker\n",
              "0  2012-03-20  15260  15340  15170  15260   48840    VNM\n",
              "1  2012-03-21  15340  15340  15260  15260   74890    VNM\n",
              "2  2012-03-22  15260  15340  15260  15260   65490    VNM\n",
              "3  2012-03-23  15260  16010  15260  16010  268540    VNM\n",
              "4  2012-03-26  16010  16180  15670  15760  112890    VNM"
            ]
          },
          "execution_count": 7,
          "metadata": {},
          "output_type": "execute_result"
        }
      ],
      "source": [
        "df =  stock_historical_data(symbol='VNM', start_date=\"2003-01-01\", end_date=\"2023-10-21\")\n",
        "df.head()"
      ]
    },
    {
      "cell_type": "code",
      "execution_count": 8,
      "metadata": {
        "id": "fhm4FoCYfvF9"
      },
      "outputs": [],
      "source": [
        "df =  stock_historical_data(symbol='VNM', start_date=\"2003-01-01\", end_date=\"2023-03-08\")"
      ]
    },
    {
      "cell_type": "markdown",
      "metadata": {
        "id": "zXXH_ILCgUsI"
      },
      "source": [
        "# Analysis"
      ]
    },
    {
      "cell_type": "code",
      "execution_count": 9,
      "metadata": {
        "colab": {
          "base_uri": "https://localhost:8080/"
        },
        "id": "GN9dE-ZCgaN1",
        "outputId": "310733b9-0fd4-4b22-892a-5ead38561711"
      },
      "outputs": [
        {
          "name": "stdout",
          "output_type": "stream",
          "text": [
            "<class 'pandas.core.frame.DataFrame'>\n",
            "RangeIndex: 2738 entries, 0 to 2737\n",
            "Data columns (total 7 columns):\n",
            " #   Column  Non-Null Count  Dtype \n",
            "---  ------  --------------  ----- \n",
            " 0   time    2738 non-null   object\n",
            " 1   open    2738 non-null   int32 \n",
            " 2   high    2738 non-null   int32 \n",
            " 3   low     2738 non-null   int32 \n",
            " 4   close   2738 non-null   int32 \n",
            " 5   volume  2738 non-null   int32 \n",
            " 6   ticker  2738 non-null   object\n",
            "dtypes: int32(5), object(2)\n",
            "memory usage: 96.4+ KB\n"
          ]
        }
      ],
      "source": [
        "df.info()"
      ]
    },
    {
      "cell_type": "code",
      "execution_count": 10,
      "metadata": {
        "colab": {
          "base_uri": "https://localhost:8080/",
          "height": 830
        },
        "id": "om0M0uY4gw2h",
        "outputId": "b61e2c98-cb3b-4728-ac7c-77abead8ddda"
      },
      "outputs": [
        {
          "data": {
            "image/png": "[encoded data removed]",
            "text/plain": [
              "<Figure size 1500x1000 with 1 Axes>"
            ]
          },
          "metadata": {},
          "output_type": "display_data"
        }
      ],
      "source": [
        "plt.figure(figsize=(15,10))\n",
        "plt.plot(df.index, df['close'], color=\"green\", label=\"Close\")\n",
        "plt.show()"
      ]
    },
    {
      "cell_type": "code",
      "execution_count": 40,
      "metadata": {
        "colab": {
          "base_uri": "https://localhost:8080/",
          "height": 455
        },
        "id": "m7-avjeyvjBQ",
        "outputId": "d9dca7b8-78e6-48d3-e0d0-91913e813417"
      },
      "outputs": [
        {
          "data": {
            "text/html": [
              "<div>\n",
              "<style scoped>\n",
              "    .dataframe tbody tr th:only-of-type {\n",
              "        vertical-align: middle;\n",
              "    }\n",
              "\n",
              "    .dataframe tbody tr th {\n",
              "        vertical-align: top;\n",
              "    }\n",
              "\n",
              "    .dataframe thead th {\n",
              "        text-align: right;\n",
              "    }\n",
              "</style>\n",
              "<table border=\"1\" class=\"dataframe\">\n",
              "  <thead>\n",
              "    <tr style=\"text-align: right;\">\n",
              "      <th></th>\n",
              "      <th>time</th>\n",
              "      <th>open</th>\n",
              "      <th>close</th>\n",
              "    </tr>\n",
              "  </thead>\n",
              "  <tbody>\n",
              "    <tr>\n",
              "      <th>0</th>\n",
              "      <td>2012-03-20</td>\n",
              "      <td>15260</td>\n",
              "      <td>15260</td>\n",
              "    </tr>\n",
              "    <tr>\n",
              "      <th>1</th>\n",
              "      <td>2012-03-21</td>\n",
              "      <td>15340</td>\n",
              "      <td>15260</td>\n",
              "    </tr>\n",
              "    <tr>\n",
              "      <th>2</th>\n",
              "      <td>2012-03-22</td>\n",
              "      <td>15260</td>\n",
              "      <td>15260</td>\n",
              "    </tr>\n",
              "    <tr>\n",
              "      <th>3</th>\n",
              "      <td>2012-03-23</td>\n",
              "      <td>15260</td>\n",
              "      <td>16010</td>\n",
              "    </tr>\n",
              "    <tr>\n",
              "      <th>4</th>\n",
              "      <td>2012-03-26</td>\n",
              "      <td>16010</td>\n",
              "      <td>15760</td>\n",
              "    </tr>\n",
              "  </tbody>\n",
              "</table>\n",
              "</div>"
            ],
            "text/plain": [
              "         time   open  close\n",
              "0  2012-03-20  15260  15260\n",
              "1  2012-03-21  15340  15260\n",
              "2  2012-03-22  15260  15260\n",
              "3  2012-03-23  15260  16010\n",
              "4  2012-03-26  16010  15760"
            ]
          },
          "execution_count": 40,
          "metadata": {},
          "output_type": "execute_result"
        }
      ],
      "source": [
        "df_data = df [['time','open','close']]\n",
        "df_data.set_index('time',drop=True,inplace=True)\n",
        "df_data.reset_index(inplace=True)\n",
        "df_data.head()"
      ]
    },
    {
      "cell_type": "markdown",
      "metadata": {},
      "source": [
        "# Preprocessing"
      ]
    },
    {
      "cell_type": "code",
      "execution_count": 12,
      "metadata": {
        "colab": {
          "base_uri": "https://localhost:8080/"
        },
        "id": "B-aoAcnPwGVL",
        "outputId": "34480905-db2c-4a73-8c1d-88909e45616a"
      },
      "outputs": [
        {
          "name": "stderr",
          "output_type": "stream",
          "text": [
            "C:\\Users\\ADMIN\\AppData\\Local\\Temp\\ipykernel_24188\\2492962360.py:3: SettingWithCopyWarning: \n",
            "A value is trying to be set on a copy of a slice from a DataFrame.\n",
            "Try using .loc[row_indexer,col_indexer] = value instead\n",
            "\n",
            "See the caveats in the documentation: https://pandas.pydata.org/pandas-docs/stable/user_guide/indexing.html#returning-a-view-versus-a-copy\n",
            "  df_data[df_data.columns] = Ms.fit_transform(df_data)\n"
          ]
        }
      ],
      "source": [
        "from sklearn.preprocessing import MinMaxScaler\n",
        "Ms = MinMaxScaler()\n",
        "df_data[df_data.columns] = Ms.fit_transform(df_data)\n",
        "training_size = round(len(df_data) * 0.80)\n",
        "train_data = df_data[:training_size]\n",
        "test_data  = df_data[training_size:]"
      ]
    },
    {
      "cell_type": "code",
      "execution_count": 16,
      "metadata": {
        "colab": {
          "base_uri": "https://localhost:8080/"
        },
        "id": "3g3Lf1jZ5nt3",
        "outputId": "b7485d41-ce8b-4d8a-9d29-fbd3ae957379"
      },
      "outputs": [
        {
          "data": {
            "text/plain": [
              "(548, 2)"
            ]
          },
          "metadata": {},
          "output_type": "display_data"
        },
        {
          "data": {
            "text/plain": [
              "(2190, 2)"
            ]
          },
          "metadata": {},
          "output_type": "display_data"
        },
        {
          "data": {
            "text/html": [
              "<div>\n",
              "<style scoped>\n",
              "    .dataframe tbody tr th:only-of-type {\n",
              "        vertical-align: middle;\n",
              "    }\n",
              "\n",
              "    .dataframe tbody tr th {\n",
              "        vertical-align: top;\n",
              "    }\n",
              "\n",
              "    .dataframe thead th {\n",
              "        text-align: right;\n",
              "    }\n",
              "</style>\n",
              "<table border=\"1\" class=\"dataframe\">\n",
              "  <thead>\n",
              "    <tr style=\"text-align: right;\">\n",
              "      <th></th>\n",
              "      <th>open</th>\n",
              "      <th>close</th>\n",
              "    </tr>\n",
              "    <tr>\n",
              "      <th>time</th>\n",
              "      <th></th>\n",
              "      <th></th>\n",
              "    </tr>\n",
              "  </thead>\n",
              "  <tbody>\n",
              "    <tr>\n",
              "      <th>2012-03-20</th>\n",
              "      <td>0.006719</td>\n",
              "      <td>0.006708</td>\n",
              "    </tr>\n",
              "    <tr>\n",
              "      <th>2012-03-21</th>\n",
              "      <td>0.007509</td>\n",
              "      <td>0.006708</td>\n",
              "    </tr>\n",
              "    <tr>\n",
              "      <th>2012-03-22</th>\n",
              "      <td>0.006719</td>\n",
              "      <td>0.006708</td>\n",
              "    </tr>\n",
              "    <tr>\n",
              "      <th>2012-03-23</th>\n",
              "      <td>0.006719</td>\n",
              "      <td>0.014107</td>\n",
              "    </tr>\n",
              "    <tr>\n",
              "      <th>2012-03-26</th>\n",
              "      <td>0.014129</td>\n",
              "      <td>0.011641</td>\n",
              "    </tr>\n",
              "  </tbody>\n",
              "</table>\n",
              "</div>"
            ],
            "text/plain": [
              "                open     close\n",
              "time                          \n",
              "2012-03-20  0.006719  0.006708\n",
              "2012-03-21  0.007509  0.006708\n",
              "2012-03-22  0.006719  0.006708\n",
              "2012-03-23  0.006719  0.014107\n",
              "2012-03-26  0.014129  0.011641"
            ]
          },
          "execution_count": 16,
          "metadata": {},
          "output_type": "execute_result"
        }
      ],
      "source": [
        "display(test_data.shape, train_data.shape)\n",
        "train_data.head()"
      ]
    },
    {
      "cell_type": "code",
      "execution_count": 17,
      "metadata": {
        "id": "hc_6MzxW0bPR"
      },
      "outputs": [],
      "source": [
        "def create_sequence(dataset):\n",
        "  sequences = []\n",
        "  labels = []\n",
        "  start_idx = 0\n",
        "  for stop_idx in range(50,len(dataset)):\n",
        "    sequences.append(dataset.iloc[start_idx:stop_idx])\n",
        "    labels.append(dataset.iloc[stop_idx])\n",
        "    start_idx += 1\n",
        "  return (np.array(sequences),np.array(labels))"
      ]
    },
    {
      "cell_type": "code",
      "execution_count": 18,
      "metadata": {
        "id": "JerNyVfl12DK"
      },
      "outputs": [],
      "source": [
        "train_seq, train_label = create_sequence(train_data)\n",
        "test_seq, test_label = create_sequence(test_data)"
      ]
    },
    {
      "cell_type": "code",
      "execution_count": 19,
      "metadata": {
        "colab": {
          "base_uri": "https://localhost:8080/"
        },
        "id": "0N9CKhOD2EFW",
        "outputId": "6e64935c-7067-49fd-e2d7-b482493acf61"
      },
      "outputs": [
        {
          "data": {
            "text/plain": [
              "(2140, 50, 2)"
            ]
          },
          "metadata": {},
          "output_type": "display_data"
        },
        {
          "data": {
            "text/plain": [
              "(498, 50, 2)"
            ]
          },
          "metadata": {},
          "output_type": "display_data"
        }
      ],
      "source": [
        "display(train_seq.shape, test_seq.shape)"
      ]
    },
    {
      "cell_type": "code",
      "execution_count": 31,
      "metadata": {
        "id": "lem4TO-SwnZ7"
      },
      "outputs": [],
      "source": [
        "def build_BiLSTM_model():\n",
        "    input = tf.keras.layers.Input(\n",
        "        shape=(train_seq.shape[1], train_seq.shape[2]), name =\"input\"\n",
        "    )\n",
        "    x = tf.keras.layers.Bidirectional(LSTM(512, return_sequences=True))(input)\n",
        "\n",
        "    x = tf.keras.layers.Bidirectional(LSTM(316, return_sequences=False, dropout=0.5))(x)\n",
        "\n",
        "    x = tf.keras.layers.Dense(128 , activation=\"relu\", name =\"dense_1\")(x)\n",
        "\n",
        "    output = tf.keras.layers.Dense(2, name=\"last_dense\")(x)\n",
        "\n",
        "    model = tf.keras.Model(inputs=input, outputs=output)\n",
        "    model.compile(loss='mean_squared_error', optimizer='adam', metrics=['mean_absolute_error'])\n",
        "\n",
        "    return model"
      ]
    },
    {
      "cell_type": "code",
      "execution_count": 32,
      "metadata": {
        "colab": {
          "base_uri": "https://localhost:8080/"
        },
        "id": "BVg_602Fzp0G",
        "outputId": "63ee7aeb-0472-4757-8498-da705edc4208"
      },
      "outputs": [
        {
          "name": "stdout",
          "output_type": "stream",
          "text": [
            "Model: \"model_1\"\n",
            "_________________________________________________________________\n",
            " Layer (type)                Output Shape              Param #   \n",
            "=================================================================\n",
            " input (InputLayer)          [(None, 50, 2)]           0         \n",
            "                                                                 \n",
            " bidirectional_2 (Bidirecti  (None, 50, 1024)          2109440   \n",
            " onal)                                                           \n",
            "                                                                 \n",
            " bidirectional_3 (Bidirecti  (None, 632)               3390048   \n",
            " onal)                                                           \n",
            "                                                                 \n",
            " dense_1 (Dense)             (None, 128)               81024     \n",
            "                                                                 \n",
            " last_dense (Dense)          (None, 2)                 258       \n",
            "                                                                 \n",
            "=================================================================\n",
            "Total params: 5580770 (21.29 MB)\n",
            "Trainable params: 5580770 (21.29 MB)\n",
            "Non-trainable params: 0 (0.00 Byte)\n",
            "_________________________________________________________________\n"
          ]
        }
      ],
      "source": [
        "LSTM_model = build_BiLSTM_model()\n",
        "LSTM_model.summary()"
      ]
    },
    {
      "cell_type": "code",
      "execution_count": 33,
      "metadata": {
        "colab": {
          "base_uri": "https://localhost:8080/"
        },
        "id": "GT5zK1t_zx4W",
        "outputId": "2f05c91e-7bf6-42ba-d074-535103b75f5b"
      },
      "outputs": [
        {
          "name": "stdout",
          "output_type": "stream",
          "text": [
            "Epoch 1/80\n",
            "67/67 [==============================] - 48s 641ms/step - loss: 0.0202 - mean_absolute_error: 0.0714 - val_loss: 5.4013e-04 - val_mean_absolute_error: 0.0185\n",
            "Epoch 2/80\n",
            "67/67 [==============================] - 42s 627ms/step - loss: 8.4804e-04 - mean_absolute_error: 0.0208 - val_loss: 7.5024e-04 - val_mean_absolute_error: 0.0231\n",
            "Epoch 3/80\n",
            "67/67 [==============================] - 39s 581ms/step - loss: 6.2719e-04 - mean_absolute_error: 0.0177 - val_loss: 2.8201e-04 - val_mean_absolute_error: 0.0127\n",
            "Epoch 4/80\n",
            "67/67 [==============================] - 37s 556ms/step - loss: 7.8704e-04 - mean_absolute_error: 0.0202 - val_loss: 3.9087e-04 - val_mean_absolute_error: 0.0160\n",
            "Epoch 5/80\n",
            "67/67 [==============================] - 37s 550ms/step - loss: 7.6313e-04 - mean_absolute_error: 0.0198 - val_loss: 3.5402e-04 - val_mean_absolute_error: 0.0151\n",
            "Epoch 6/80\n",
            "67/67 [==============================] - 38s 568ms/step - loss: 4.0907e-04 - mean_absolute_error: 0.0140 - val_loss: 2.5348e-04 - val_mean_absolute_error: 0.0120\n",
            "Epoch 7/80\n",
            "67/67 [==============================] - 40s 596ms/step - loss: 4.3273e-04 - mean_absolute_error: 0.0145 - val_loss: 7.5804e-04 - val_mean_absolute_error: 0.0243\n",
            "Epoch 8/80\n",
            "67/67 [==============================] - 37s 559ms/step - loss: 4.6800e-04 - mean_absolute_error: 0.0153 - val_loss: 2.9593e-04 - val_mean_absolute_error: 0.0139\n",
            "Epoch 9/80\n",
            "67/67 [==============================] - 43s 645ms/step - loss: 3.7739e-04 - mean_absolute_error: 0.0135 - val_loss: 2.1022e-04 - val_mean_absolute_error: 0.0108\n",
            "Epoch 10/80\n",
            "67/67 [==============================] - 41s 607ms/step - loss: 3.5099e-04 - mean_absolute_error: 0.0129 - val_loss: 3.4268e-04 - val_mean_absolute_error: 0.0152\n",
            "Epoch 11/80\n",
            "67/67 [==============================] - 42s 633ms/step - loss: 4.0636e-04 - mean_absolute_error: 0.0141 - val_loss: 3.2114e-04 - val_mean_absolute_error: 0.0149\n",
            "Epoch 12/80\n",
            "67/67 [==============================] - 41s 613ms/step - loss: 3.8745e-04 - mean_absolute_error: 0.0137 - val_loss: 4.8506e-04 - val_mean_absolute_error: 0.0187\n",
            "Epoch 13/80\n",
            "67/67 [==============================] - 41s 620ms/step - loss: 3.6198e-04 - mean_absolute_error: 0.0135 - val_loss: 1.7891e-04 - val_mean_absolute_error: 0.0100\n",
            "Epoch 14/80\n",
            "67/67 [==============================] - 42s 620ms/step - loss: 2.9120e-04 - mean_absolute_error: 0.0118 - val_loss: 2.2635e-04 - val_mean_absolute_error: 0.0117\n",
            "Epoch 15/80\n",
            "67/67 [==============================] - 41s 614ms/step - loss: 3.4651e-04 - mean_absolute_error: 0.0130 - val_loss: 1.9404e-04 - val_mean_absolute_error: 0.0109\n",
            "Epoch 16/80\n",
            "67/67 [==============================] - 43s 642ms/step - loss: 2.7309e-04 - mean_absolute_error: 0.0115 - val_loss: 1.6860e-04 - val_mean_absolute_error: 0.0099\n",
            "Epoch 17/80\n",
            "67/67 [==============================] - 41s 619ms/step - loss: 2.6643e-04 - mean_absolute_error: 0.0113 - val_loss: 1.7220e-04 - val_mean_absolute_error: 0.0101\n",
            "Epoch 18/80\n",
            "67/67 [==============================] - 42s 632ms/step - loss: 3.4036e-04 - mean_absolute_error: 0.0128 - val_loss: 1.6523e-04 - val_mean_absolute_error: 0.0098\n",
            "Epoch 19/80\n",
            "67/67 [==============================] - 42s 622ms/step - loss: 2.6134e-04 - mean_absolute_error: 0.0113 - val_loss: 1.5921e-04 - val_mean_absolute_error: 0.0096\n",
            "Epoch 20/80\n",
            "67/67 [==============================] - 40s 604ms/step - loss: 2.8757e-04 - mean_absolute_error: 0.0119 - val_loss: 1.5827e-04 - val_mean_absolute_error: 0.0096\n",
            "Epoch 21/80\n",
            "67/67 [==============================] - 41s 614ms/step - loss: 2.6382e-04 - mean_absolute_error: 0.0113 - val_loss: 1.4542e-04 - val_mean_absolute_error: 0.0089\n",
            "Epoch 22/80\n",
            "67/67 [==============================] - 41s 606ms/step - loss: 2.7026e-04 - mean_absolute_error: 0.0114 - val_loss: 3.5972e-04 - val_mean_absolute_error: 0.0164\n",
            "Epoch 23/80\n",
            "67/67 [==============================] - 41s 606ms/step - loss: 2.7925e-04 - mean_absolute_error: 0.0118 - val_loss: 5.6670e-04 - val_mean_absolute_error: 0.0213\n",
            "Epoch 24/80\n",
            "67/67 [==============================] - 41s 606ms/step - loss: 2.7308e-04 - mean_absolute_error: 0.0116 - val_loss: 1.4289e-04 - val_mean_absolute_error: 0.0092\n",
            "Epoch 25/80\n",
            "67/67 [==============================] - 40s 601ms/step - loss: 2.9140e-04 - mean_absolute_error: 0.0117 - val_loss: 1.3319e-04 - val_mean_absolute_error: 0.0086\n",
            "Epoch 26/80\n",
            "67/67 [==============================] - 40s 601ms/step - loss: 2.1045e-04 - mean_absolute_error: 0.0101 - val_loss: 2.7630e-04 - val_mean_absolute_error: 0.0138\n",
            "Epoch 27/80\n",
            "67/67 [==============================] - 40s 600ms/step - loss: 2.4113e-04 - mean_absolute_error: 0.0107 - val_loss: 2.1924e-04 - val_mean_absolute_error: 0.0119\n",
            "Epoch 28/80\n",
            "67/67 [==============================] - 41s 611ms/step - loss: 2.4752e-04 - mean_absolute_error: 0.0112 - val_loss: 2.9522e-04 - val_mean_absolute_error: 0.0147\n",
            "Epoch 29/80\n",
            "67/67 [==============================] - 41s 613ms/step - loss: 2.3141e-04 - mean_absolute_error: 0.0108 - val_loss: 1.9173e-04 - val_mean_absolute_error: 0.0112\n",
            "Epoch 30/80\n",
            "67/67 [==============================] - 40s 600ms/step - loss: 2.1725e-04 - mean_absolute_error: 0.0104 - val_loss: 1.2093e-04 - val_mean_absolute_error: 0.0082\n",
            "Epoch 31/80\n",
            "67/67 [==============================] - 41s 614ms/step - loss: 2.4008e-04 - mean_absolute_error: 0.0107 - val_loss: 2.8530e-04 - val_mean_absolute_error: 0.0143\n",
            "Epoch 32/80\n",
            "67/67 [==============================] - 42s 635ms/step - loss: 2.1929e-04 - mean_absolute_error: 0.0105 - val_loss: 1.2901e-04 - val_mean_absolute_error: 0.0085\n",
            "Epoch 33/80\n",
            "67/67 [==============================] - 41s 618ms/step - loss: 2.1553e-04 - mean_absolute_error: 0.0104 - val_loss: 1.1814e-04 - val_mean_absolute_error: 0.0080\n",
            "Epoch 34/80\n",
            "67/67 [==============================] - 41s 619ms/step - loss: 2.2017e-04 - mean_absolute_error: 0.0103 - val_loss: 1.1248e-04 - val_mean_absolute_error: 0.0079\n",
            "Epoch 35/80\n",
            "67/67 [==============================] - 40s 597ms/step - loss: 3.6802e-04 - mean_absolute_error: 0.0139 - val_loss: 1.9834e-04 - val_mean_absolute_error: 0.0118\n",
            "Epoch 36/80\n",
            "67/67 [==============================] - 40s 598ms/step - loss: 2.1264e-04 - mean_absolute_error: 0.0103 - val_loss: 1.2673e-04 - val_mean_absolute_error: 0.0088\n",
            "Epoch 37/80\n",
            "67/67 [==============================] - 40s 590ms/step - loss: 1.7714e-04 - mean_absolute_error: 0.0093 - val_loss: 2.6690e-04 - val_mean_absolute_error: 0.0140\n",
            "Epoch 38/80\n",
            "67/67 [==============================] - 41s 607ms/step - loss: 2.9900e-04 - mean_absolute_error: 0.0123 - val_loss: 1.0616e-04 - val_mean_absolute_error: 0.0076\n",
            "Epoch 39/80\n",
            "67/67 [==============================] - 40s 598ms/step - loss: 2.3295e-04 - mean_absolute_error: 0.0108 - val_loss: 1.0858e-04 - val_mean_absolute_error: 0.0077\n",
            "Epoch 40/80\n",
            "67/67 [==============================] - 40s 593ms/step - loss: 2.0584e-04 - mean_absolute_error: 0.0101 - val_loss: 1.6403e-04 - val_mean_absolute_error: 0.0101\n",
            "Epoch 41/80\n",
            "67/67 [==============================] - 43s 647ms/step - loss: 1.8638e-04 - mean_absolute_error: 0.0097 - val_loss: 1.5352e-04 - val_mean_absolute_error: 0.0100\n",
            "Epoch 42/80\n",
            "67/67 [==============================] - 40s 602ms/step - loss: 1.8984e-04 - mean_absolute_error: 0.0098 - val_loss: 1.1981e-04 - val_mean_absolute_error: 0.0083\n",
            "Epoch 43/80\n",
            "67/67 [==============================] - 42s 620ms/step - loss: 2.0696e-04 - mean_absolute_error: 0.0102 - val_loss: 1.0456e-04 - val_mean_absolute_error: 0.0077\n",
            "Epoch 44/80\n",
            "67/67 [==============================] - 41s 614ms/step - loss: 2.0774e-04 - mean_absolute_error: 0.0103 - val_loss: 1.1254e-04 - val_mean_absolute_error: 0.0078\n",
            "Epoch 45/80\n",
            "67/67 [==============================] - 45s 672ms/step - loss: 1.9404e-04 - mean_absolute_error: 0.0098 - val_loss: 1.3665e-04 - val_mean_absolute_error: 0.0092\n",
            "Epoch 46/80\n",
            "67/67 [==============================] - 43s 645ms/step - loss: 1.8607e-04 - mean_absolute_error: 0.0098 - val_loss: 9.4950e-05 - val_mean_absolute_error: 0.0073\n",
            "Epoch 47/80\n",
            "67/67 [==============================] - 43s 639ms/step - loss: 1.8665e-04 - mean_absolute_error: 0.0099 - val_loss: 1.0692e-04 - val_mean_absolute_error: 0.0076\n",
            "Epoch 48/80\n",
            "67/67 [==============================] - 39s 586ms/step - loss: 2.6640e-04 - mean_absolute_error: 0.0117 - val_loss: 1.0187e-04 - val_mean_absolute_error: 0.0074\n",
            "Epoch 49/80\n",
            "67/67 [==============================] - 40s 592ms/step - loss: 2.0674e-04 - mean_absolute_error: 0.0103 - val_loss: 1.7306e-04 - val_mean_absolute_error: 0.0106\n",
            "Epoch 50/80\n",
            "67/67 [==============================] - 37s 547ms/step - loss: 2.8841e-04 - mean_absolute_error: 0.0124 - val_loss: 2.1918e-04 - val_mean_absolute_error: 0.0122\n",
            "Epoch 51/80\n",
            "67/67 [==============================] - 38s 564ms/step - loss: 1.6879e-04 - mean_absolute_error: 0.0093 - val_loss: 9.2096e-05 - val_mean_absolute_error: 0.0071\n",
            "Epoch 52/80\n",
            "67/67 [==============================] - 40s 598ms/step - loss: 1.6914e-04 - mean_absolute_error: 0.0092 - val_loss: 8.7634e-05 - val_mean_absolute_error: 0.0067\n",
            "Epoch 53/80\n",
            "67/67 [==============================] - 41s 614ms/step - loss: 1.7312e-04 - mean_absolute_error: 0.0094 - val_loss: 9.5576e-05 - val_mean_absolute_error: 0.0070\n",
            "Epoch 54/80\n",
            "67/67 [==============================] - 43s 638ms/step - loss: 1.6318e-04 - mean_absolute_error: 0.0092 - val_loss: 8.5874e-05 - val_mean_absolute_error: 0.0066\n",
            "Epoch 55/80\n",
            "67/67 [==============================] - 38s 561ms/step - loss: 2.0248e-04 - mean_absolute_error: 0.0104 - val_loss: 8.2853e-04 - val_mean_absolute_error: 0.0273\n",
            "Epoch 56/80\n",
            "67/67 [==============================] - 39s 591ms/step - loss: 3.1115e-04 - mean_absolute_error: 0.0131 - val_loss: 8.6365e-05 - val_mean_absolute_error: 0.0068\n",
            "Epoch 57/80\n",
            "67/67 [==============================] - 37s 557ms/step - loss: 1.8261e-04 - mean_absolute_error: 0.0094 - val_loss: 7.4613e-04 - val_mean_absolute_error: 0.0256\n",
            "Epoch 58/80\n",
            "67/67 [==============================] - 35s 521ms/step - loss: 2.0283e-04 - mean_absolute_error: 0.0101 - val_loss: 1.8449e-04 - val_mean_absolute_error: 0.0117\n",
            "Epoch 59/80\n",
            "67/67 [==============================] - 36s 537ms/step - loss: 1.7216e-04 - mean_absolute_error: 0.0094 - val_loss: 8.7199e-05 - val_mean_absolute_error: 0.0070\n",
            "Epoch 60/80\n",
            "67/67 [==============================] - 39s 579ms/step - loss: 1.6977e-04 - mean_absolute_error: 0.0092 - val_loss: 1.0428e-04 - val_mean_absolute_error: 0.0081\n",
            "Epoch 61/80\n",
            "67/67 [==============================] - 37s 554ms/step - loss: 1.6889e-04 - mean_absolute_error: 0.0093 - val_loss: 4.7971e-04 - val_mean_absolute_error: 0.0201\n",
            "Epoch 62/80\n",
            "67/67 [==============================] - 37s 547ms/step - loss: 2.0779e-04 - mean_absolute_error: 0.0106 - val_loss: 1.9735e-04 - val_mean_absolute_error: 0.0112\n",
            "Epoch 63/80\n",
            "67/67 [==============================] - 41s 620ms/step - loss: 1.6357e-04 - mean_absolute_error: 0.0092 - val_loss: 8.3142e-05 - val_mean_absolute_error: 0.0066\n",
            "Epoch 64/80\n",
            "67/67 [==============================] - 38s 564ms/step - loss: 1.6203e-04 - mean_absolute_error: 0.0091 - val_loss: 2.3125e-04 - val_mean_absolute_error: 0.0129\n",
            "Epoch 65/80\n",
            "67/67 [==============================] - 38s 562ms/step - loss: 1.7867e-04 - mean_absolute_error: 0.0096 - val_loss: 7.7175e-05 - val_mean_absolute_error: 0.0062\n",
            "Epoch 66/80\n",
            "67/67 [==============================] - 35s 527ms/step - loss: 1.7962e-04 - mean_absolute_error: 0.0096 - val_loss: 1.3121e-04 - val_mean_absolute_error: 0.0094\n",
            "Epoch 67/80\n",
            "67/67 [==============================] - 35s 530ms/step - loss: 1.7487e-04 - mean_absolute_error: 0.0098 - val_loss: 9.0749e-05 - val_mean_absolute_error: 0.0068\n",
            "Epoch 68/80\n",
            "67/67 [==============================] - 38s 564ms/step - loss: 1.7717e-04 - mean_absolute_error: 0.0096 - val_loss: 1.5376e-04 - val_mean_absolute_error: 0.0104\n",
            "Epoch 69/80\n",
            "67/67 [==============================] - 35s 527ms/step - loss: 1.6655e-04 - mean_absolute_error: 0.0095 - val_loss: 1.2190e-04 - val_mean_absolute_error: 0.0085\n",
            "Epoch 70/80\n",
            "67/67 [==============================] - 42s 621ms/step - loss: 2.0539e-04 - mean_absolute_error: 0.0104 - val_loss: 8.6528e-05 - val_mean_absolute_error: 0.0070\n",
            "Epoch 71/80\n",
            "67/67 [==============================] - 36s 544ms/step - loss: 1.6338e-04 - mean_absolute_error: 0.0094 - val_loss: 7.6337e-05 - val_mean_absolute_error: 0.0062\n",
            "Epoch 72/80\n",
            "67/67 [==============================] - 39s 582ms/step - loss: 1.7661e-04 - mean_absolute_error: 0.0096 - val_loss: 1.2290e-04 - val_mean_absolute_error: 0.0085\n",
            "Epoch 73/80\n",
            "67/67 [==============================] - 37s 559ms/step - loss: 2.2574e-04 - mean_absolute_error: 0.0109 - val_loss: 1.2707e-04 - val_mean_absolute_error: 0.0090\n",
            "Epoch 74/80\n",
            "67/67 [==============================] - 37s 561ms/step - loss: 1.5214e-04 - mean_absolute_error: 0.0089 - val_loss: 7.7202e-05 - val_mean_absolute_error: 0.0062\n",
            "Epoch 75/80\n",
            "67/67 [==============================] - 40s 604ms/step - loss: 1.5911e-04 - mean_absolute_error: 0.0090 - val_loss: 7.6036e-05 - val_mean_absolute_error: 0.0062\n",
            "Epoch 76/80\n",
            "67/67 [==============================] - 36s 542ms/step - loss: 1.9949e-04 - mean_absolute_error: 0.0102 - val_loss: 0.0010 - val_mean_absolute_error: 0.0310\n",
            "Epoch 77/80\n",
            "67/67 [==============================] - 35s 519ms/step - loss: 2.1828e-04 - mean_absolute_error: 0.0109 - val_loss: 1.1681e-04 - val_mean_absolute_error: 0.0084\n",
            "Epoch 78/80\n",
            "67/67 [==============================] - 41s 613ms/step - loss: 1.8086e-04 - mean_absolute_error: 0.0096 - val_loss: 1.7818e-04 - val_mean_absolute_error: 0.0117\n",
            "Epoch 79/80\n",
            "67/67 [==============================] - 42s 631ms/step - loss: 1.7168e-04 - mean_absolute_error: 0.0094 - val_loss: 8.5256e-05 - val_mean_absolute_error: 0.0066\n",
            "Epoch 80/80\n",
            "67/67 [==============================] - 39s 580ms/step - loss: 1.4646e-04 - mean_absolute_error: 0.0087 - val_loss: 9.9164e-05 - val_mean_absolute_error: 0.0075\n"
          ]
        },
        {
          "data": {
            "text/plain": [
              "<keras.src.callbacks.History at 0x2808d93e020>"
            ]
          },
          "execution_count": 33,
          "metadata": {},
          "output_type": "execute_result"
        }
      ],
      "source": [
        "batch_size = 20\n",
        "early_stopping_patience = 17\n",
        "LSTM_model.fit(train_seq, train_label, epochs=80,validation_data=(test_seq, test_label), verbose=1)"
      ]
    },
    {
      "cell_type": "code",
      "execution_count": 34,
      "metadata": {
        "colab": {
          "base_uri": "https://localhost:8080/"
        },
        "id": "jBpXWQZP2zhK",
        "outputId": "81d831c2-21dd-4dc4-d7b8-211adb5061f9"
      },
      "outputs": [
        {
          "name": "stdout",
          "output_type": "stream",
          "text": [
            "16/16 [==============================] - 2s 59ms/step\n"
          ]
        }
      ],
      "source": [
        "test_predicted = LSTM_model.predict(test_seq)\n",
        "test_inverse_predicted = Ms.inverse_transform(test_predicted)"
      ]
    },
    {
      "cell_type": "code",
      "execution_count": 35,
      "metadata": {
        "colab": {
          "base_uri": "https://localhost:8080/"
        },
        "id": "AGk10Ybk32q5",
        "outputId": "5a99c93b-6b43-4022-b92f-bd8b2d7aeb0d"
      },
      "outputs": [
        {
          "data": {
            "text/plain": [
              "array([[88136.01 , 88410.57 ],\n",
              "       [88080.52 , 88344.47 ],\n",
              "       [88097.125, 88350.43 ],\n",
              "       [87405.87 , 87650.375],\n",
              "       [86918.51 , 87160.38 ]], dtype=float32)"
            ]
          },
          "execution_count": 35,
          "metadata": {},
          "output_type": "execute_result"
        }
      ],
      "source": [
        "test_inverse_predicted[:5]"
      ]
    },
    {
      "cell_type": "code",
      "execution_count": 36,
      "metadata": {
        "id": "EuL9X9Uz4-h1"
      },
      "outputs": [],
      "source": [
        "df_slice_data = pd.concat([df_data .iloc[-498:].copy(),pd.DataFrame(test_inverse_predicted,columns=['open_predicted','close_predicted'],index=df_data .iloc[-498:].index)], axis=1)"
      ]
    },
    {
      "cell_type": "code",
      "execution_count": 37,
      "metadata": {
        "colab": {
          "base_uri": "https://localhost:8080/",
          "height": 237
        },
        "id": "uzcPuFd3552c",
        "outputId": "8cf591d1-6718-4b32-b22c-94776aad34c0"
      },
      "outputs": [
        {
          "data": {
            "text/html": [
              "<div>\n",
              "<style scoped>\n",
              "    .dataframe tbody tr th:only-of-type {\n",
              "        vertical-align: middle;\n",
              "    }\n",
              "\n",
              "    .dataframe tbody tr th {\n",
              "        vertical-align: top;\n",
              "    }\n",
              "\n",
              "    .dataframe thead th {\n",
              "        text-align: right;\n",
              "    }\n",
              "</style>\n",
              "<table border=\"1\" class=\"dataframe\">\n",
              "  <thead>\n",
              "    <tr style=\"text-align: right;\">\n",
              "      <th></th>\n",
              "      <th>open</th>\n",
              "      <th>close</th>\n",
              "      <th>open_predicted</th>\n",
              "      <th>close_predicted</th>\n",
              "    </tr>\n",
              "    <tr>\n",
              "      <th>time</th>\n",
              "      <th></th>\n",
              "      <th></th>\n",
              "      <th></th>\n",
              "      <th></th>\n",
              "    </tr>\n",
              "  </thead>\n",
              "  <tbody>\n",
              "    <tr>\n",
              "      <th>2021-03-12</th>\n",
              "      <td>88580.0</td>\n",
              "      <td>87890.0</td>\n",
              "      <td>88136.007812</td>\n",
              "      <td>88410.570312</td>\n",
              "    </tr>\n",
              "    <tr>\n",
              "      <th>2021-03-15</th>\n",
              "      <td>88410.0</td>\n",
              "      <td>87890.0</td>\n",
              "      <td>88080.523438</td>\n",
              "      <td>88344.468750</td>\n",
              "    </tr>\n",
              "    <tr>\n",
              "      <th>2021-03-16</th>\n",
              "      <td>87890.0</td>\n",
              "      <td>86860.0</td>\n",
              "      <td>88097.125000</td>\n",
              "      <td>88350.429688</td>\n",
              "    </tr>\n",
              "    <tr>\n",
              "      <th>2021-03-17</th>\n",
              "      <td>86860.0</td>\n",
              "      <td>86430.0</td>\n",
              "      <td>87405.867188</td>\n",
              "      <td>87650.375000</td>\n",
              "    </tr>\n",
              "    <tr>\n",
              "      <th>2021-03-18</th>\n",
              "      <td>86860.0</td>\n",
              "      <td>88150.0</td>\n",
              "      <td>86918.507812</td>\n",
              "      <td>87160.382812</td>\n",
              "    </tr>\n",
              "  </tbody>\n",
              "</table>\n",
              "</div>"
            ],
            "text/plain": [
              "               open    close  open_predicted  close_predicted\n",
              "time                                                         \n",
              "2021-03-12  88580.0  87890.0    88136.007812     88410.570312\n",
              "2021-03-15  88410.0  87890.0    88080.523438     88344.468750\n",
              "2021-03-16  87890.0  86860.0    88097.125000     88350.429688\n",
              "2021-03-17  86860.0  86430.0    87405.867188     87650.375000\n",
              "2021-03-18  86860.0  88150.0    86918.507812     87160.382812"
            ]
          },
          "execution_count": 37,
          "metadata": {},
          "output_type": "execute_result"
        }
      ],
      "source": [
        "df_slice_data[['open','close']] = Ms.inverse_transform(df_slice_data[['open','close']])\n",
        "df_slice_data.head()"
      ]
    },
    {
      "cell_type": "code",
      "execution_count": 38,
      "metadata": {
        "colab": {
          "base_uri": "https://localhost:8080/",
          "height": 609
        },
        "id": "eUwxzV356Qko",
        "outputId": "251f2cc0-dea2-4cff-d305-5dd55b73a95f"
      },
      "outputs": [
        {
          "data": {
            "image/png": "[encoded data removed]",
            "text/plain": [
              "<Figure size 1000x600 with 1 Axes>"
            ]
          },
          "metadata": {},
          "output_type": "display_data"
        }
      ],
      "source": [
        "df_slice_data[['open','open_predicted']].plot(figsize=(10,6))\n",
        "plt.xticks(rotation=45)\n",
        "plt.xlabel('Date',size=15)\n",
        "plt.ylabel('Stock Price',size=15)\n",
        "plt.title('Actual vs Predicted for open price',size=15)\n",
        "plt.show()"
      ]
    },
    {
      "cell_type": "code",
      "execution_count": 39,
      "metadata": {
        "colab": {
          "base_uri": "https://localhost:8080/",
          "height": 237
        },
        "id": "Uu_gtQBk7MVU",
        "outputId": "1b678f66-c21e-4921-e55d-710b8b4c6b4e"
      },
      "outputs": [
        {
          "data": {
            "text/html": [
              "<div>\n",
              "<style scoped>\n",
              "    .dataframe tbody tr th:only-of-type {\n",
              "        vertical-align: middle;\n",
              "    }\n",
              "\n",
              "    .dataframe tbody tr th {\n",
              "        vertical-align: top;\n",
              "    }\n",
              "\n",
              "    .dataframe thead th {\n",
              "        text-align: right;\n",
              "    }\n",
              "</style>\n",
              "<table border=\"1\" class=\"dataframe\">\n",
              "  <thead>\n",
              "    <tr style=\"text-align: right;\">\n",
              "      <th></th>\n",
              "      <th>time</th>\n",
              "      <th>open</th>\n",
              "      <th>close</th>\n",
              "      <th>open_predicted</th>\n",
              "      <th>close_predicted</th>\n",
              "    </tr>\n",
              "  </thead>\n",
              "  <tbody>\n",
              "    <tr>\n",
              "      <th>0</th>\n",
              "      <td>2021-03-12</td>\n",
              "      <td>88580.0</td>\n",
              "      <td>87890.0</td>\n",
              "      <td>88136.007812</td>\n",
              "      <td>88410.570312</td>\n",
              "    </tr>\n",
              "    <tr>\n",
              "      <th>1</th>\n",
              "      <td>2021-03-15</td>\n",
              "      <td>88410.0</td>\n",
              "      <td>87890.0</td>\n",
              "      <td>88080.523438</td>\n",
              "      <td>88344.468750</td>\n",
              "    </tr>\n",
              "    <tr>\n",
              "      <th>2</th>\n",
              "      <td>2021-03-16</td>\n",
              "      <td>87890.0</td>\n",
              "      <td>86860.0</td>\n",
              "      <td>88097.125000</td>\n",
              "      <td>88350.429688</td>\n",
              "    </tr>\n",
              "    <tr>\n",
              "      <th>3</th>\n",
              "      <td>2021-03-17</td>\n",
              "      <td>86860.0</td>\n",
              "      <td>86430.0</td>\n",
              "      <td>87405.867188</td>\n",
              "      <td>87650.375000</td>\n",
              "    </tr>\n",
              "    <tr>\n",
              "      <th>4</th>\n",
              "      <td>2021-03-18</td>\n",
              "      <td>86860.0</td>\n",
              "      <td>88150.0</td>\n",
              "      <td>86918.507812</td>\n",
              "      <td>87160.382812</td>\n",
              "    </tr>\n",
              "    <tr>\n",
              "      <th>...</th>\n",
              "      <td>...</td>\n",
              "      <td>...</td>\n",
              "      <td>...</td>\n",
              "      <td>...</td>\n",
              "      <td>...</td>\n",
              "    </tr>\n",
              "    <tr>\n",
              "      <th>493</th>\n",
              "      <td>2023-03-02</td>\n",
              "      <td>72930.0</td>\n",
              "      <td>72560.0</td>\n",
              "      <td>72966.015625</td>\n",
              "      <td>73259.875000</td>\n",
              "    </tr>\n",
              "    <tr>\n",
              "      <th>494</th>\n",
              "      <td>2023-03-03</td>\n",
              "      <td>71140.0</td>\n",
              "      <td>72080.0</td>\n",
              "      <td>72885.804688</td>\n",
              "      <td>73183.070312</td>\n",
              "    </tr>\n",
              "    <tr>\n",
              "      <th>495</th>\n",
              "      <td>2023-03-06</td>\n",
              "      <td>72080.0</td>\n",
              "      <td>71140.0</td>\n",
              "      <td>72868.046875</td>\n",
              "      <td>73166.382812</td>\n",
              "    </tr>\n",
              "    <tr>\n",
              "      <th>496</th>\n",
              "      <td>2023-03-07</td>\n",
              "      <td>71990.0</td>\n",
              "      <td>71890.0</td>\n",
              "      <td>71932.843750</td>\n",
              "      <td>72229.781250</td>\n",
              "    </tr>\n",
              "    <tr>\n",
              "      <th>497</th>\n",
              "      <td>2023-03-08</td>\n",
              "      <td>71320.0</td>\n",
              "      <td>72560.0</td>\n",
              "      <td>72067.296875</td>\n",
              "      <td>72364.515625</td>\n",
              "    </tr>\n",
              "  </tbody>\n",
              "</table>\n",
              "<p>498 rows × 5 columns</p>\n",
              "</div>"
            ],
            "text/plain": [
              "           time     open    close  open_predicted  close_predicted\n",
              "0    2021-03-12  88580.0  87890.0    88136.007812     88410.570312\n",
              "1    2021-03-15  88410.0  87890.0    88080.523438     88344.468750\n",
              "2    2021-03-16  87890.0  86860.0    88097.125000     88350.429688\n",
              "3    2021-03-17  86860.0  86430.0    87405.867188     87650.375000\n",
              "4    2021-03-18  86860.0  88150.0    86918.507812     87160.382812\n",
              "..          ...      ...      ...             ...              ...\n",
              "493  2023-03-02  72930.0  72560.0    72966.015625     73259.875000\n",
              "494  2023-03-03  71140.0  72080.0    72885.804688     73183.070312\n",
              "495  2023-03-06  72080.0  71140.0    72868.046875     73166.382812\n",
              "496  2023-03-07  71990.0  71890.0    71932.843750     72229.781250\n",
              "497  2023-03-08  71320.0  72560.0    72067.296875     72364.515625\n",
              "\n",
              "[498 rows x 5 columns]"
            ]
          },
          "execution_count": 39,
          "metadata": {},
          "output_type": "execute_result"
        }
      ],
      "source": [
        "df_slice_data.reset_index()"
      ]
    }
  ],
  "metadata": {
    "colab": {
      "provenance": []
    },
    "kernelspec": {
      "display_name": "Python 3",
      "name": "python3"
    },
    "language_info": {
      "codemirror_mode": {
        "name": "ipython",
        "version": 3
      },
      "file_extension": ".py",
      "mimetype": "text/x-python",
      "name": "python",
      "nbconvert_exporter": "python",
      "pygments_lexer": "ipython3",
      "version": "3.10.13"
    }
  },
  "nbformat": 4,
  "nbformat_minor": 0
}
